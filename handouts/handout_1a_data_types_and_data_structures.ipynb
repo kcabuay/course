{
 "cells": [
  {
   "cell_type": "markdown",
   "metadata": {},
   "source": [
    "### Here is the dictionary from the lecture\n",
    "\n",
    "1. Answer the questions below\n",
    "2. Push it to your own repo in git\n",
    "    \n",
    "    a. `git add .`\n",
    "    \n",
    "    b. `git commit -m '[handout] add answers to handout 1'`\n",
    "    \n",
    "    c. `git push origin master`"
   ]
  },
  {
   "cell_type": "code",
   "execution_count": 7,
   "metadata": {},
   "outputs": [],
   "source": [
    "burn_book = {\n",
    "    'Tim': {\n",
    "        'status': 'cool',\n",
    "        'address': 'Moore',\n",
    "        'age': 29,\n",
    "        'money': 100,\n",
    "        'family': ['Orpha', 'Joselito', 'Bea', 'Queenie', 'Phoebe']\n",
    "    },\n",
    "    'David': {\n",
    "        'status': 'lame',\n",
    "        'address': 'Quintet',\n",
    "        'age': 26,\n",
    "        'money': 300,\n",
    "        'family': ['Roby', 'Noemi', 'Jordan', 'Kevin', 'Sam']\n",
    "    },\n",
    "    'Kevin': {\n",
    "        'status': 'cool',\n",
    "        'address': 'Quintet',\n",
    "        'age': 25,\n",
    "        'money': 400,\n",
    "        'family': ['Roby', 'Noemi', 'Jordan', 'David', 'Sam'],\n",
    "    },\n",
    "    'Sam': {\n",
    "        'status': 'lame',\n",
    "        'address': 'Quintet',\n",
    "        'age': 20,\n",
    "        'money': 500,\n",
    "        'family': ['Roby', 'Noemi', 'Jordan', 'David', 'Kevin']\n",
    "    },\n",
    "}"
   ]
  },
  {
   "cell_type": "markdown",
   "metadata": {},
   "source": [
    "#### Question 1\n",
    "Translate this sentence into code. Do Sam and Kevin live in the same country?"
   ]
  },
  {
   "cell_type": "code",
   "execution_count": 8,
   "metadata": {},
   "outputs": [
    {
     "data": {
      "text/plain": [
       "True"
      ]
     },
     "execution_count": 8,
     "metadata": {},
     "output_type": "execute_result"
    }
   ],
   "source": [
    "burn_book ['Sam']['address'] == burn_book ['Kevin']['address']"
   ]
  },
  {
   "cell_type": "markdown",
   "metadata": {},
   "source": [
    "#### Question 2\n",
    "Translate this sentence into code. Who is older? David or Kevin?"
   ]
  },
  {
   "cell_type": "code",
   "execution_count": 11,
   "metadata": {},
   "outputs": [
    {
     "data": {
      "text/plain": [
       "True"
      ]
     },
     "execution_count": 11,
     "metadata": {},
     "output_type": "execute_result"
    }
   ],
   "source": [
    "burn_book ['David']['age'] > burn_book['Kevin']['age']"
   ]
  },
  {
   "cell_type": "markdown",
   "metadata": {},
   "source": [
    "#### Question 3\n",
    "Translate this sentence into code. Are David and Kevin together older than Bea and Sam?"
   ]
  },
  {
   "cell_type": "code",
   "execution_count": 12,
   "metadata": {},
   "outputs": [
    {
     "data": {
      "text/plain": [
       "False"
      ]
     },
     "execution_count": 12,
     "metadata": {},
     "output_type": "execute_result"
    }
   ],
   "source": [
    "burn_book['David']['age'] + burn_book['Kevin']['age'] == burn_book['Tim']['age'] + burn_book['Sam']['age']"
   ]
  },
  {
   "cell_type": "markdown",
   "metadata": {},
   "source": [
    "#### Question 4\n",
    "Translate this sentence into code. Sam is irresponsible with money and spent 300 on new shoes. Change the dictionary to reflect it"
   ]
  },
  {
   "cell_type": "code",
   "execution_count": 41,
   "metadata": {},
   "outputs": [
    {
     "name": "stdout",
     "output_type": "stream",
     "text": [
      "{'Tim': {'status': 'cool', 'address': 'Moore', 'age': 29, 'money': 100, 'family': ['Orpha', 'Joselito', 'Bea', 'Queenie', 'Phoebe']}, 'David': {'status': 'lame', 'address': 'Quintet', 'age': 26, 'money': 300, 'family': ['Roby', 'Noemi', 'Jordan', 'Kevin', 'Sam']}, 'Kevin': {'status': 'cool', 'address': 'Quintet', 'age': 25, 'money': 400, 'family': ['Roby', 'Noemi', 'Jordan', 'David', 'Sam']}, 'Sam': {'status': 'lame', 'address': 'Quintet', 'age': 20, 'money': 200, 'family': ['Roby', 'Noemi', 'Jordan', 'David', 'Kevin']}}\n"
     ]
    }
   ],
   "source": [
    "burn_book ['Sam']['money'] = burn_book ['Sam']['money']-300\n",
    "print (burn_book)"
   ]
  },
  {
   "cell_type": "markdown",
   "metadata": {},
   "source": [
    "#### Question 5\n",
    "Translate this sentence into code. Do David and Tim live in Qunitet?"
   ]
  },
  {
   "cell_type": "code",
   "execution_count": 15,
   "metadata": {},
   "outputs": [
    {
     "data": {
      "text/plain": [
       "False"
      ]
     },
     "execution_count": 15,
     "metadata": {},
     "output_type": "execute_result"
    }
   ],
   "source": [
    "burn_book ['David']['address'] == burn_book ['Tim']['address']"
   ]
  },
  {
   "cell_type": "markdown",
   "metadata": {},
   "source": [
    "#### Question 6\n",
    "Sam will buy you food if  either David and Kevin live in Quintet, or Tim lives in Moore. Will Sam buy you food?"
   ]
  },
  {
   "cell_type": "code",
   "execution_count": 40,
   "metadata": {},
   "outputs": [
    {
     "data": {
      "text/plain": [
       "True"
      ]
     },
     "execution_count": 40,
     "metadata": {},
     "output_type": "execute_result"
    }
   ],
   "source": [
    "burn_book ['Kevin']['address'] == burn_book ['David']['address'] != burn_book ['Tim']['address']"
   ]
  },
  {
   "cell_type": "markdown",
   "metadata": {},
   "source": [
    "#### Question 7 (bonus)\n",
    "Look up how to add a new value to a list. Add \"Tabitha\" to Tim's family and print it"
   ]
  },
  {
   "cell_type": "code",
   "execution_count": null,
   "metadata": {
    "collapsed": true
   },
   "outputs": [],
   "source": [
    "list.insert [Tim] ['Tabitha']"
   ]
  }
 ],
 "metadata": {
  "kernelspec": {
   "display_name": "Python 3",
   "language": "python",
   "name": "python3"
  },
  "language_info": {
   "codemirror_mode": {
    "name": "ipython",
    "version": 3
   },
   "file_extension": ".py",
   "mimetype": "text/x-python",
   "name": "python",
   "nbconvert_exporter": "python",
   "pygments_lexer": "ipython3",
   "version": "3.7.0"
  }
 },
 "nbformat": 4,
 "nbformat_minor": 2
}
