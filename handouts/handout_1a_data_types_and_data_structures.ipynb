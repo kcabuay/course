{
 "cells": [
  {
   "cell_type": "markdown",
   "metadata": {},
   "source": [
    "### Here is the dictionary from the lecture\n",
    "\n",
    "1. Answer the questions below\n",
    "2. Push it to your own repo in git\n",
    "    \n",
    "    a. `git add .`\n",
    "    \n",
    "    b. `git commit -m '[handout] add answers to handout 1'`\n",
    "    \n",
    "    c. `git push origin master`"
   ]
  },
  {
   "cell_type": "code",
   "execution_count": null,
   "metadata": {
    "collapsed": true
   },
   "outputs": [],
   "source": [
    "burn_book = {\n",
    "    'Tim': {\n",
    "        'status': 'cool',\n",
    "        'address': 'Moore',\n",
    "        'age': 29,\n",
    "        'money': 100,\n",
    "        'family': ['Orpha', 'Joselito', 'Bea', 'Queenie', 'Phoebe']\n",
    "    },\n",
    "    'David': {\n",
    "        'status': 'lame',\n",
    "        'address': 'Quintet',\n",
    "        'age': 26,\n",
    "        'money': 300,\n",
    "        'family': ['Roby', 'Noemi', 'Jordan', 'Kevin', 'Sam']\n",
    "    },\n",
    "    'Kevin': {\n",
    "        'status': 'cool',\n",
    "        'address': 'Quintet',\n",
    "        'age': 25,\n",
    "        'money': 400,\n",
    "        'family': ['Roby', 'Noemi', 'Jordan', 'David', 'Sam'],\n",
    "    },\n",
    "    'Sam': {\n",
    "        'status': 'lame',\n",
    "        'address': 'Quintet',\n",
    "        'age': 20,\n",
    "        'money': 500,\n",
    "        'family': ['Roby', 'Noemi', 'Jordan', 'David', 'Kevin']\n",
    "    },\n",
    "}"
   ]
  },
  {
   "cell_type": "markdown",
   "metadata": {},
   "source": [
    "#### Question 1\n",
    "Translate this sentence into code. Do Sam and Kevin live in the same country?"
   ]
  },
  {
   "cell_type": "code",
   "execution_count": null,
   "metadata": {
    "collapsed": true
   },
   "outputs": [],
   "source": [
    "### WRITE FULL CODE TO Q1 HERE. REMEMBER TO DO THIS IN CODE"
   ]
  },
  {
   "cell_type": "markdown",
   "metadata": {},
   "source": [
    "#### Question 2\n",
    "Translate this sentence into code. Who is older? David or Kevin?"
   ]
  },
  {
   "cell_type": "code",
   "execution_count": null,
   "metadata": {
    "collapsed": true
   },
   "outputs": [],
   "source": [
    "### WRITE FULL CODE TO Q2 HERE"
   ]
  },
  {
   "cell_type": "markdown",
   "metadata": {},
   "source": [
    "#### Question 3\n",
    "Translate this sentence into code. Are David and Kevin together older than Bea and Sam?"
   ]
  },
  {
   "cell_type": "code",
   "execution_count": null,
   "metadata": {
    "collapsed": true
   },
   "outputs": [],
   "source": [
    "### WRITE FULL CODE TO Q3 HERE. "
   ]
  },
  {
   "cell_type": "markdown",
   "metadata": {},
   "source": [
    "#### Question 4\n",
    "Translate this sentence into code. Sam is irresponsible with money and spent 300 on new shoes. Change the dictionary to reflect it"
   ]
  },
  {
   "cell_type": "code",
   "execution_count": null,
   "metadata": {
    "collapsed": true
   },
   "outputs": [],
   "source": [
    "### WRITE FULL CODE TO Q4 HERE. "
   ]
  },
  {
   "cell_type": "markdown",
   "metadata": {},
   "source": [
    "#### Question 5\n",
    "Translate this sentence into code. Do David and Tim live in Qunitet?"
   ]
  },
  {
   "cell_type": "code",
   "execution_count": null,
   "metadata": {
    "collapsed": true
   },
   "outputs": [],
   "source": [
    "### WRITE FULL CODE TO Q5 HERE"
   ]
  },
  {
   "cell_type": "markdown",
   "metadata": {},
   "source": [
    "#### Question 6\n",
    "Sam will buy you food if  either David and Kevin live in Quintet, or Tim lives in Moore. Will Sam buy you food?"
   ]
  },
  {
   "cell_type": "code",
   "execution_count": null,
   "metadata": {
    "collapsed": true
   },
   "outputs": [],
   "source": [
    "### WRITE FULL CODE TO Q6 HERE"
   ]
  },
  {
   "cell_type": "markdown",
   "metadata": {},
   "source": [
    "#### Question 7 (bonus)\n",
    "Look up how to add a new value to a list. Add \"Tabitha\" to Tim's family and print it"
   ]
  },
  {
   "cell_type": "code",
   "execution_count": null,
   "metadata": {
    "collapsed": true
   },
   "outputs": [],
   "source": [
    "### WRITE FULL CODE TO Q7 HERE"
   ]
  }
 ],
 "metadata": {
  "kernelspec": {
   "display_name": "Python 3",
   "language": "python",
   "name": "python3"
  },
  "language_info": {
   "codemirror_mode": {
    "name": "ipython",
    "version": 3
   },
   "file_extension": ".py",
   "mimetype": "text/x-python",
   "name": "python",
   "nbconvert_exporter": "python",
   "pygments_lexer": "ipython3",
   "version": "3.6.0"
  }
 },
 "nbformat": 4,
 "nbformat_minor": 2
}
