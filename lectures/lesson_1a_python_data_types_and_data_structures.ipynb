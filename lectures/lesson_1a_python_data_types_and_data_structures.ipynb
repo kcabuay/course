{
 "cells": [
  {
   "cell_type": "markdown",
   "metadata": {},
   "source": [
    "## Lecture 1 - Date types and Data Structures\n",
    "\n",
    "Woohoo! Lesson 1! Here we go!"
   ]
  },
  {
   "cell_type": "markdown",
   "metadata": {},
   "source": [
    "### Data Types / Data Structures\n",
    "<p style='text-align: center; font-weight: bold;'> Primitive/Basic Data Types </p>"
   ]
  },
  {
   "cell_type": "markdown",
   "metadata": {},
   "source": [
    "| Symbol | Example | \n",
    "|----|---|\n",
    "| str  | 'Hello' or \"Hello\" |\n",
    "| int  | 0, 1, 2, 3, 4 |\n",
    "| float  | 0.123 |\n",
    "| bool | true, false |"
   ]
  },
  {
   "cell_type": "markdown",
   "metadata": {},
   "source": [
    "<p style='text-align: center; font-weight: bold;'> Non-Primitive/Composite Data Structures </p>"
   ]
  },
  {
   "cell_type": "markdown",
   "metadata": {},
   "source": [
    "| Symbol | Example | Notes |\n",
    "|----|---|\n",
    "| list  | ['kevin', 'kevin', 'tim', 'david'] | can have duplicates |\n",
    "| set  | {'kevin', 'david', 'tim'} | no duplicates |\n",
    "| dict  | {'kevin': 25, 'david': 26, 'tim': 29} | key-value pair. no duplicates"
   ]
  },
  {
   "cell_type": "markdown",
   "metadata": {},
   "source": [
    "## Variables\n",
    "In python, you can assign a variable any type and the python interpreter will interpret it."
   ]
  },
  {
   "cell_type": "code",
   "execution_count": null,
   "metadata": {
    "collapsed": true
   },
   "outputs": [],
   "source": [
    "x = 2\n",
    "y = 10\n",
    "a = '4'\n",
    "b = '2'"
   ]
  },
  {
   "cell_type": "code",
   "execution_count": 2,
   "metadata": {},
   "outputs": [
    {
     "ename": "NameError",
     "evalue": "name 'x' is not defined",
     "output_type": "error",
     "traceback": [
      "\u001b[0;31m---------------------------------------------------------------------------\u001b[0m",
      "\u001b[0;31mNameError\u001b[0m                                 Traceback (most recent call last)",
      "\u001b[0;32m<ipython-input-2-2dc15f1ee5b5>\u001b[0m in \u001b[0;36m<module>\u001b[0;34m()\u001b[0m\n\u001b[0;32m----> 1\u001b[0;31m \u001b[0mprint\u001b[0m\u001b[0;34m(\u001b[0m\u001b[0;34m\"This is x + y: \"\u001b[0m\u001b[0;34m,\u001b[0m \u001b[0mx\u001b[0m \u001b[0;34m+\u001b[0m \u001b[0my\u001b[0m\u001b[0;34m)\u001b[0m\u001b[0;34m\u001b[0m\u001b[0m\n\u001b[0m\u001b[1;32m      2\u001b[0m \u001b[0mprint\u001b[0m\u001b[0;34m(\u001b[0m\u001b[0;34m\"This is a + b: \"\u001b[0m\u001b[0;34m,\u001b[0m \u001b[0ma\u001b[0m \u001b[0;34m+\u001b[0m \u001b[0mb\u001b[0m\u001b[0;34m,\u001b[0m \u001b[0;34m\"Notice that we don't actually add the strings but just put them next to each other\"\u001b[0m\u001b[0;34m)\u001b[0m\u001b[0;34m\u001b[0m\u001b[0m\n",
      "\u001b[0;31mNameError\u001b[0m: name 'x' is not defined"
     ]
    }
   ],
   "source": [
    "print(\"This is x + y: \", x + y)\n",
    "print(\"This is a + b: \", a + b, \"Notice that we don't actually add the strings but just put them next to each other\")"
   ]
  },
  {
   "cell_type": "markdown",
   "metadata": {},
   "source": [
    "## Operators"
   ]
  },
  {
   "cell_type": "markdown",
   "metadata": {},
   "source": [
    "<p style='text-align: center; font-weight: bold;'> Arithmetic Operators </p>"
   ]
  },
  {
   "cell_type": "markdown",
   "metadata": {},
   "source": [
    "| Symbol | Task Performed | Example | Output\n",
    "|----|---|\n",
    "| +  | Addition | 1 + 1 | 2\n",
    "| -  | Subtraction | 1 - 1 | 0\n",
    "| /  | division | 1 / 2 | 0.5\n",
    "| %  | mod (remainder) | 10 % 3 | 1 \n",
    "| *  | multiplication | 1 * 2 | 2\n",
    "| //  | floor division (round down) | 1 / 2 | 0\n",
    "| **  | to the power of | 2**2 | 4"
   ]
  },
  {
   "cell_type": "markdown",
   "metadata": {},
   "source": [
    "<p style='text-align: center; font-weight: bold;'> Relational Operators </p>"
   ]
  },
  {
   "cell_type": "markdown",
   "metadata": {},
   "source": [
    "| Symbol | Task Performed | Example | Output\n",
    "|----|---|\n",
    "| == | True, if it is equal | 1 == 1 | True\n",
    "| !=  | True, if not equal to | 1 != 1 | False\n",
    "| < | less than | 1 < 1 | False\n",
    "| > | greater than | 1 > 1 | False\n",
    "| <=  | less than or equal to | 1 <= 1 | True\n",
    "| >=  | greater than or equal to | 1 >= | True"
   ]
  },
  {
   "cell_type": "markdown",
   "metadata": {},
   "source": [
    "<p style='text-align: center; font-weight: bold;'> Logical Operators </p>"
   ]
  },
  {
   "cell_type": "markdown",
   "metadata": {},
   "source": [
    "| Symbol | Task Performed | Example | Output\n",
    "|----|---|\n",
    "| and | True, if both are true | (1 == 1) and (2 == 3) | False. One is false.\n",
    "| or  | True, if one is true | (1 == 2) or (2 == 3) | False. Neither are true.\n",
    "| not | True, if one is false | (1 == 2) | True. It is not true\n"
   ]
  },
  {
   "cell_type": "markdown",
   "metadata": {},
   "source": [
    "### Putting it all together"
   ]
  },
  {
   "cell_type": "code",
   "execution_count": null,
   "metadata": {
    "collapsed": true
   },
   "outputs": [],
   "source": [
    "burn_book = {\n",
    "    'Tim': {\n",
    "        'status': 'cool',\n",
    "        'address': 'USA',\n",
    "        'age': 28,\n",
    "        'money': 100,\n",
    "        'family': ['Orpha', 'Joselito', 'Tim', 'Queenie', 'Phoebe']\n",
    "    },\n",
    "    'David': {\n",
    "        'status': 'lame',\n",
    "        'address': 'Quintet',\n",
    "        'age': 26,\n",
    "        'money': 300,\n",
    "        'family': ['Roby', 'Noemi', 'Jordan', 'Kevin', 'Sam']\n",
    "    },\n",
    "    'Kevin': {\n",
    "        'status': 'cool',\n",
    "        'address': 'Quintet',\n",
    "        'age': 25,\n",
    "        'money': 400,\n",
    "        'family': ['Roby', 'Noemi', 'Jordan', 'David', 'Sam'],\n",
    "    },\n",
    "    'Sam': {\n",
    "        'status': 'lame',\n",
    "        'address': 'Quintet',\n",
    "        'age': 20,\n",
    "        'money': 500,\n",
    "        'family': ['Roby', 'Noemi', 'Jordan', 'David', 'Kevin']\n",
    "    },\n",
    "}\n",
    "\n",
    "david_status = burn_book['David']['status']\n",
    "sam_family = burn_book['Sam']['family']\n",
    "sam_money = burn_book['Sam']['money']\n",
    "kevin_money = burn_book['Kevin']['money']"
   ]
  },
  {
   "cell_type": "code",
   "execution_count": null,
   "metadata": {},
   "outputs": [],
   "source": [
    "burn_book_type = type(burn_book)\n",
    "print(\"This is the burn book type/data structure:\", burn_book_type)\n",
    "\n",
    "is_david_cool = david_status == 'cool'\n",
    "print(\"Is david cool?\", is_david_cool)\n",
    "\n",
    "print(\"This is sam's family:\", sam_family)\n",
    "\n",
    "print(\"Is Kevin richer than sam?\", kevin_money > sam_money)"
   ]
  }
 ],
 "metadata": {
  "kernelspec": {
   "display_name": "Python 3",
   "language": "python",
   "name": "python3"
  },
  "language_info": {
   "codemirror_mode": {
    "name": "ipython",
    "version": 3
   },
   "file_extension": ".py",
   "mimetype": "text/x-python",
   "name": "python",
   "nbconvert_exporter": "python",
   "pygments_lexer": "ipython3",
   "version": "3.7.0"
  }
 },
 "nbformat": 4,
 "nbformat_minor": 2
}
